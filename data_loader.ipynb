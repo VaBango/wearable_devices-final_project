{
 "metadata": {
  "language_info": {
   "codemirror_mode": {
    "name": "ipython",
    "version": 3
   },
   "file_extension": ".py",
   "mimetype": "text/x-python",
   "name": "python",
   "nbconvert_exporter": "python",
   "pygments_lexer": "ipython3",
   "version": 3
  },
  "orig_nbformat": 2
 },
 "nbformat": 4,
 "nbformat_minor": 2,
 "cells": [
  {
   "cell_type": "code",
   "execution_count": null,
   "metadata": {},
   "outputs": [],
   "source": [
    "import pandas as pd \n",
    "import numpy as np \n",
    "import seaborn as sns \n",
    "\n",
    "import os\n",
    "\n",
    "# select by matching strings\n",
    "# warning: currently expects unique files of the given feature\n",
    "\n",
    "# list all files in the data directory\n",
    "def get_files(data_dir):\n",
    "    path = os.getcwd()\n",
    "    for root, dirs, files in os.walk(str(path)+'/'+data_dir):\n",
    "        for filename in files:\n",
    "            print(filename)\n",
    "    return root, dirs, files\n",
    "\n",
    "def find_file(feature, files):\n",
    "    filename = ''\n",
    "    for i in range(0, len(files), 1):\n",
    "        if (feature in files[i]):\n",
    "            filename = files[i]\n",
    "            if (filename != ''):\n",
    "                print('a file found: %s' %(filename))\n",
    "    if (filename == ''):\n",
    "        print('no file found')\n",
    "    return filename\n",
    "\n",
    "\n",
    "# expects root and files to be defined\n",
    "def get_data(filename, root):\n",
    "    metadata = pd.read_csv(root+'/'+filename, nrows = 4, header=None, skip_blank_lines=False)\n",
    "    df = pd.read_csv(root+'/'+filename, skiprows = [0,1,2,3])\n",
    "    return metadata, df\n",
    "\n",
    "def get_dictionary(features, root, files): \n",
    "    data = {}\n",
    "    for feature in features:\n",
    "        file_name = find_file(feature, files)\n",
    "        metadata, df = get_data(file_name, root)\n",
    "        df['Date'] = pd.to_datetime(df.Date)\n",
    "        df = df.sort_values(by='Date')\n",
    "        data[feature] = df\n",
    "    return data, metadata"
   ]
  }
 ]
}